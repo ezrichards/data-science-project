{
 "cells": [
  {
   "cell_type": "code",
   "execution_count": 4,
   "id": "269c34db",
   "metadata": {},
   "outputs": [
    {
     "data": {
      "text/html": [
       "<pre style=\"white-space:pre;overflow-x:auto;line-height:normal;font-family:Menlo,'DejaVu Sans Mono',consolas,'Courier New',monospace\"><span style=\"color: #7fbfbf; text-decoration-color: #7fbfbf\">[06/07/23 11:55:07] </span><span style=\"color: #000080; text-decoration-color: #000080\">INFO    </span> Saving cached data to <span style=\"color: #800080; text-decoration-color: #800080\">/Users/ethanrichards/soccerdata/data/</span><span style=\"color: #ff00ff; text-decoration-color: #ff00ff\">FBref</span>         <a href=\"file:///Library/Frameworks/Python.framework/Versions/3.9/lib/python3.9/site-packages/soccerdata/_common.py\" target=\"_blank\"><span style=\"color: #7f7f7f; text-decoration-color: #7f7f7f\">_common.py</span></a><span style=\"color: #7f7f7f; text-decoration-color: #7f7f7f\">:</span><a href=\"file:///Library/Frameworks/Python.framework/Versions/3.9/lib/python3.9/site-packages/soccerdata/_common.py#89\" target=\"_blank\"><span style=\"color: #7f7f7f; text-decoration-color: #7f7f7f\">89</span></a>\n",
       "</pre>\n"
      ],
      "text/plain": [
       "\u001b[2;36m[06/07/23 11:55:07]\u001b[0m\u001b[2;36m \u001b[0m\u001b[34mINFO    \u001b[0m Saving cached data to \u001b[35m/Users/ethanrichards/soccerdata/data/\u001b[0m\u001b[95mFBref\u001b[0m         \u001b]8;id=105333;file:///Library/Frameworks/Python.framework/Versions/3.9/lib/python3.9/site-packages/soccerdata/_common.py\u001b\\\u001b[2m_common.py\u001b[0m\u001b]8;;\u001b\\\u001b[2m:\u001b[0m\u001b]8;id=414674;file:///Library/Frameworks/Python.framework/Versions/3.9/lib/python3.9/site-packages/soccerdata/_common.py#89\u001b\\\u001b[2m89\u001b[0m\u001b]8;;\u001b\\\n"
      ]
     },
     "metadata": {},
     "output_type": "display_data"
    },
    {
     "data": {
      "image/png": "[encoded data removed]",
      "text/plain": [
       "<Figure size 432x288 with 1 Axes>"
      ]
     },
     "metadata": {
      "needs_background": "light"
     },
     "output_type": "display_data"
    }
   ],
   "source": [
    "import matplotlib.pyplot as plt\n",
    "import pandas as pd\n",
    "import soccerdata as sd\n",
    "import matplotlib.pyplot as plt\n",
    "%matplotlib inline\n",
    "\n",
    "# Load in FBref players via soccerdata web scraper\n",
    "fbref = sd.FBref(leagues=\"ENG-Premier League\", seasons=2022)\n",
    "player_season_stats = fbref.read_player_season_stats(stat_type=\"standard\")\n",
    "\n",
    "# https://stackoverflow.com/questions/32938060/reverting-from-multiindex-to-single-index-dataframe-in-pandas\n",
    "player_season_stats = player_season_stats.reset_index(level=['league','season', 'team', 'player'])\n",
    "player_season_stats\n",
    "\n",
    "#player_season_stats.loc[player_season_stats['player'] == 'Cristiano Ronaldo']\n",
    "\n",
    "# Convert columns to numeric data types\n",
    "player_season_stats[('Performance', 'Gls')] = pd.to_numeric(player_season_stats[('Performance', 'Gls')])\n",
    "player_season_stats[('Expected', 'xG')] = pd.to_numeric(player_season_stats[('Expected', 'xG')])\n",
    "\n",
    "# Create a scatter plot of goals vs expected goals\n",
    "plt.scatter(player_season_stats[('Expected', 'xG')], player_season_stats[('Performance', 'Gls')])\n",
    "\n",
    "# Set plot title and axis labels\n",
    "plt.title('Goals vs Expected Goals')\n",
    "plt.xlabel('Expected Goals (xG)')\n",
    "plt.ylabel('Goals (G)')\n",
    "\n",
    "# Show the plot\n",
    "plt.show()"
   ]
  },
  {
   "cell_type": "code",
   "execution_count": null,
   "id": "f842e60e",
   "metadata": {},
   "outputs": [],
   "source": []
  }
 ],
 "metadata": {
  "kernelspec": {
   "display_name": "Python 3",
   "language": "python",
   "name": "python3"
  },
  "language_info": {
   "codemirror_mode": {
    "name": "ipython",
    "version": 3
   },
   "file_extension": ".py",
   "mimetype": "text/x-python",
   "name": "python",
   "nbconvert_exporter": "python",
   "pygments_lexer": "ipython3",
   "version": "3.9.1"
  }
 },
 "nbformat": 4,
 "nbformat_minor": 5
}
