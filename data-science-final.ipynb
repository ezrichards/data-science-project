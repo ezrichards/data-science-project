{
 "cells": [
  {
   "cell_type": "code",
   "execution_count": 23,
   "id": "50f331d7",
   "metadata": {},
   "outputs": [
    {
     "data": {
      "text/html": [
       "<pre style=\"white-space:pre;overflow-x:auto;line-height:normal;font-family:Menlo,'DejaVu Sans Mono',consolas,'Courier New',monospace\"><span style=\"color: #7fbfbf; text-decoration-color: #7fbfbf\">[06/06/23 16:36:56] </span><span style=\"color: #000080; text-decoration-color: #000080\">INFO    </span> Saving cached data to                                                    <a href=\"file:///Library/Frameworks/Python.framework/Versions/3.9/lib/python3.9/site-packages/soccerdata/_common.py\" target=\"_blank\"><span style=\"color: #7f7f7f; text-decoration-color: #7f7f7f\">_common.py</span></a><span style=\"color: #7f7f7f; text-decoration-color: #7f7f7f\">:</span><a href=\"file:///Library/Frameworks/Python.framework/Versions/3.9/lib/python3.9/site-packages/soccerdata/_common.py#89\" target=\"_blank\"><span style=\"color: #7f7f7f; text-decoration-color: #7f7f7f\">89</span></a>\n",
       "<span style=\"color: #7fbfbf; text-decoration-color: #7fbfbf\">                    </span>         <span style=\"color: #800080; text-decoration-color: #800080\">/Users/ethanrichards/soccerdata/data/</span><span style=\"color: #ff00ff; text-decoration-color: #ff00ff\">FiveThirtyEight</span>                     <span style=\"color: #7f7f7f; text-decoration-color: #7f7f7f\">             </span>\n",
       "</pre>\n"
      ],
      "text/plain": [
       "\u001b[2;36m[06/06/23 16:36:56]\u001b[0m\u001b[2;36m \u001b[0m\u001b[34mINFO    \u001b[0m Saving cached data to                                                    \u001b]8;id=921944;file:///Library/Frameworks/Python.framework/Versions/3.9/lib/python3.9/site-packages/soccerdata/_common.py\u001b\\\u001b[2m_common.py\u001b[0m\u001b]8;;\u001b\\\u001b[2m:\u001b[0m\u001b]8;id=818972;file:///Library/Frameworks/Python.framework/Versions/3.9/lib/python3.9/site-packages/soccerdata/_common.py#89\u001b\\\u001b[2m89\u001b[0m\u001b]8;;\u001b\\\n",
       "\u001b[2;36m                    \u001b[0m         \u001b[35m/Users/ethanrichards/soccerdata/data/\u001b[0m\u001b[95mFiveThirtyEight\u001b[0m                     \u001b[2m             \u001b[0m\n"
      ]
     },
     "metadata": {},
     "output_type": "display_data"
    },
    {
     "data": {
      "text/html": [
       "<pre style=\"white-space:pre;overflow-x:auto;line-height:normal;font-family:Menlo,'DejaVu Sans Mono',consolas,'Courier New',monospace\"><span style=\"color: #7fbfbf; text-decoration-color: #7fbfbf\">                    </span><span style=\"color: #000080; text-decoration-color: #000080\">INFO    </span> Saving cached data to <span style=\"color: #800080; text-decoration-color: #800080\">/Users/ethanrichards/soccerdata/data/</span><span style=\"color: #ff00ff; text-decoration-color: #ff00ff\">FBref</span>         <a href=\"file:///Library/Frameworks/Python.framework/Versions/3.9/lib/python3.9/site-packages/soccerdata/_common.py\" target=\"_blank\"><span style=\"color: #7f7f7f; text-decoration-color: #7f7f7f\">_common.py</span></a><span style=\"color: #7f7f7f; text-decoration-color: #7f7f7f\">:</span><a href=\"file:///Library/Frameworks/Python.framework/Versions/3.9/lib/python3.9/site-packages/soccerdata/_common.py#89\" target=\"_blank\"><span style=\"color: #7f7f7f; text-decoration-color: #7f7f7f\">89</span></a>\n",
       "</pre>\n"
      ],
      "text/plain": [
       "\u001b[2;36m                   \u001b[0m\u001b[2;36m \u001b[0m\u001b[34mINFO    \u001b[0m Saving cached data to \u001b[35m/Users/ethanrichards/soccerdata/data/\u001b[0m\u001b[95mFBref\u001b[0m         \u001b]8;id=18781;file:///Library/Frameworks/Python.framework/Versions/3.9/lib/python3.9/site-packages/soccerdata/_common.py\u001b\\\u001b[2m_common.py\u001b[0m\u001b]8;;\u001b\\\u001b[2m:\u001b[0m\u001b]8;id=929919;file:///Library/Frameworks/Python.framework/Versions/3.9/lib/python3.9/site-packages/soccerdata/_common.py#89\u001b\\\u001b[2m89\u001b[0m\u001b]8;;\u001b\\\n"
      ]
     },
     "metadata": {},
     "output_type": "display_data"
    },
    {
     "data": {
      "text/plain": [
       "[('nation', ''),\n",
       " ('pos', ''),\n",
       " ('age', ''),\n",
       " ('born', ''),\n",
       " ('Playing Time', 'MP'),\n",
       " ('Playing Time', 'Starts'),\n",
       " ('Playing Time', 'Min'),\n",
       " ('Playing Time', '90s'),\n",
       " ('Performance', 'Gls'),\n",
       " ('Performance', 'Ast'),\n",
       " ('Performance', 'G+A'),\n",
       " ('Performance', 'G-PK'),\n",
       " ('Performance', 'PK'),\n",
       " ('Performance', 'PKatt'),\n",
       " ('Performance', 'CrdY'),\n",
       " ('Performance', 'CrdR'),\n",
       " ('Expected', 'xG'),\n",
       " ('Expected', 'npxG'),\n",
       " ('Expected', 'xAG'),\n",
       " ('Expected', 'npxG+xAG'),\n",
       " ('Progression', 'PrgC'),\n",
       " ('Progression', 'PrgP'),\n",
       " ('Progression', 'PrgR'),\n",
       " ('Per 90 Minutes', 'Gls'),\n",
       " ('Per 90 Minutes', 'Ast'),\n",
       " ('Per 90 Minutes', 'G+A'),\n",
       " ('Per 90 Minutes', 'G-PK'),\n",
       " ('Per 90 Minutes', 'G+A-PK'),\n",
       " ('Per 90 Minutes', 'xG'),\n",
       " ('Per 90 Minutes', 'xAG'),\n",
       " ('Per 90 Minutes', 'xG+xAG'),\n",
       " ('Per 90 Minutes', 'npxG'),\n",
       " ('Per 90 Minutes', 'npxG+xAG')]"
      ]
     },
     "execution_count": 23,
     "metadata": {},
     "output_type": "execute_result"
    }
   ],
   "source": [
    "import soccerdata as sd\n",
    "\n",
    "# Get players\n",
    "fbref = sd.FBref(leagues=\"ENG-Premier League\", seasons=2022)\n",
    "player_season_stats = fbref.read_player_season_stats(stat_type=\"standard\")\n",
    "player_season_stats.head()\n",
    "\n",
    "list(player_season_stats)"
   ]
  },
  {
   "cell_type": "code",
   "execution_count": null,
   "id": "773cac6a",
   "metadata": {},
   "outputs": [],
   "source": []
  }
 ],
 "metadata": {
  "kernelspec": {
   "display_name": "Python 3",
   "language": "python",
   "name": "python3"
  },
  "language_info": {
   "codemirror_mode": {
    "name": "ipython",
    "version": 3
   },
   "file_extension": ".py",
   "mimetype": "text/x-python",
   "name": "python",
   "nbconvert_exporter": "python",
   "pygments_lexer": "ipython3",
   "version": "3.9.1"
  }
 },
 "nbformat": 4,
 "nbformat_minor": 5
}
