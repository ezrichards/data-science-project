{
 "cells": [
  {
   "cell_type": "code",
   "execution_count": null,
   "id": "5e95d133",
   "metadata": {},
   "outputs": [],
   "source": [
    "import soccerdata as sd\n",
    "\n",
    "# Create scraper class instance for the Premier League\n",
    "five38 = sd.FiveThirtyEight('ENG-Premier League', '1819')\n",
    "\n",
    "# Fetch dataframes\n",
    "games = five38.read_games()"
   ]
  },
  {
   "cell_type": "code",
   "execution_count": null,
   "id": "83afc0f7",
   "metadata": {},
   "outputs": [],
   "source": []
  }
 ],
 "metadata": {
  "kernelspec": {
   "display_name": "Python 3",
   "language": "python",
   "name": "python3"
  },
  "language_info": {
   "codemirror_mode": {
    "name": "ipython",
    "version": 3
   },
   "file_extension": ".py",
   "mimetype": "text/x-python",
   "name": "python",
   "nbconvert_exporter": "python",
   "pygments_lexer": "ipython3",
   "version": "3.9.1"
  }
 },
 "nbformat": 4,
 "nbformat_minor": 5
}
