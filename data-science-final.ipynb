{
 "cells": [
  {
   "cell_type": "code",
   "execution_count": 34,
   "id": "50f331d7",
   "metadata": {},
   "outputs": [
    {
     "data": {
      "text/html": [
       "<pre style=\"white-space:pre;overflow-x:auto;line-height:normal;font-family:Menlo,'DejaVu Sans Mono',consolas,'Courier New',monospace\"><span style=\"color: #7fbfbf; text-decoration-color: #7fbfbf\">[06/06/23 17:25:52] </span><span style=\"color: #000080; text-decoration-color: #000080\">INFO    </span> Saving cached data to C:\\Users\\avery\\soccerdata\\data\\FBref               <a href=\"file://C:\\Users\\avery\\anaconda3\\lib\\site-packages\\soccerdata\\_common.py\" target=\"_blank\"><span style=\"color: #7f7f7f; text-decoration-color: #7f7f7f\">_common.py</span></a><span style=\"color: #7f7f7f; text-decoration-color: #7f7f7f\">:</span><a href=\"file://C:\\Users\\avery\\anaconda3\\lib\\site-packages\\soccerdata\\_common.py#89\" target=\"_blank\"><span style=\"color: #7f7f7f; text-decoration-color: #7f7f7f\">89</span></a>\n",
       "</pre>\n"
      ],
      "text/plain": [
       "\u001b[2;36m[06/06/23 17:25:52]\u001b[0m\u001b[2;36m \u001b[0m\u001b[34mINFO    \u001b[0m Saving cached data to C:\\Users\\avery\\soccerdata\\data\\FBref               \u001b]8;id=371941;file://C:\\Users\\avery\\anaconda3\\lib\\site-packages\\soccerdata\\_common.py\u001b\\\u001b[2m_common.py\u001b[0m\u001b]8;;\u001b\\\u001b[2m:\u001b[0m\u001b]8;id=637272;file://C:\\Users\\avery\\anaconda3\\lib\\site-packages\\soccerdata\\_common.py#89\u001b\\\u001b[2m89\u001b[0m\u001b]8;;\u001b\\\n"
      ]
     },
     "metadata": {},
     "output_type": "display_data"
    },
    {
     "data": {
      "text/plain": [
       "[('nation', ''),\n",
       " ('pos', ''),\n",
       " ('age', ''),\n",
       " ('born', ''),\n",
       " ('Playing Time', 'MP'),\n",
       " ('Playing Time', 'Starts'),\n",
       " ('Playing Time', 'Min'),\n",
       " ('Playing Time', '90s'),\n",
       " ('Performance', 'Gls'),\n",
       " ('Performance', 'Ast'),\n",
       " ('Performance', 'G+A'),\n",
       " ('Performance', 'G-PK'),\n",
       " ('Performance', 'PK'),\n",
       " ('Performance', 'PKatt'),\n",
       " ('Performance', 'CrdY'),\n",
       " ('Performance', 'CrdR'),\n",
       " ('Expected', 'xG'),\n",
       " ('Expected', 'npxG'),\n",
       " ('Expected', 'xAG'),\n",
       " ('Expected', 'npxG+xAG'),\n",
       " ('Progression', 'PrgC'),\n",
       " ('Progression', 'PrgP'),\n",
       " ('Progression', 'PrgR'),\n",
       " ('Per 90 Minutes', 'Gls'),\n",
       " ('Per 90 Minutes', 'Ast'),\n",
       " ('Per 90 Minutes', 'G+A'),\n",
       " ('Per 90 Minutes', 'G-PK'),\n",
       " ('Per 90 Minutes', 'G+A-PK'),\n",
       " ('Per 90 Minutes', 'xG'),\n",
       " ('Per 90 Minutes', 'xAG'),\n",
       " ('Per 90 Minutes', 'xG+xAG'),\n",
       " ('Per 90 Minutes', 'npxG'),\n",
       " ('Per 90 Minutes', 'npxG+xAG')]"
      ]
     },
     "execution_count": 34,
     "metadata": {},
     "output_type": "execute_result"
    }
   ],
   "source": [
    "\n",
    "import soccerdata as sd\n",
    "\n",
    "# Get players\n",
    "fbref = sd.FBref(leagues=\"ENG-Premier League\", seasons=2022)\n",
    "player_season_stats = fbref.read_player_season_stats(stat_type=\"standard\")\n",
    "player_season_stats.head()\n",
    "\n",
    "list(player_season_stats)\n",
    "\n",
    "# comment for a new change"
   ]
  },
  {
   "cell_type": "code",
   "execution_count": null,
   "id": "773cac6a",
   "metadata": {},
   "outputs": [],
   "source": []
  }
 ],
 "metadata": {
  "kernelspec": {
   "display_name": "Python 3 (ipykernel)",
   "language": "python",
   "name": "python3"
  },
  "language_info": {
   "codemirror_mode": {
    "name": "ipython",
    "version": 3
   },
   "file_extension": ".py",
   "mimetype": "text/x-python",
   "name": "python",
   "nbconvert_exporter": "python",
   "pygments_lexer": "ipython3",
   "version": "3.10.9"
  }
 },
 "nbformat": 4,
 "nbformat_minor": 5
}
