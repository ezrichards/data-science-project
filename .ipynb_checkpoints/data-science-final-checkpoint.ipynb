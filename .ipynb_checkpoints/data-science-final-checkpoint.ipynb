{
 "cells": [
  {
   "cell_type": "code",
   "execution_count": null,
   "id": "269c34db",
   "metadata": {},
   "outputs": [],
   "source": [
    "import pandas as pd\n",
    "import soccerdata as sd\n",
    "\n",
    "fbref = sd.FBref(leagues=\"ENG-Premier League\", seasons=2022)\n",
    "player_season_stats = fbref.read_player_season_stats(stat_type=\"standard\")\n",
    "\n",
<<<<<<< HEAD
    "list(player_season_stats)\n",
    "\n",
    "# comment for a new change"
=======
    "# https://stackoverflow.com/questions/32938060/reverting-from-multiindex-to-single-index-dataframe-in-pandas\n",
    "player_season_stats = player_season_stats.reset_index(level=['league','season', 'team', 'player'])\n",
    "player_season_stats\n",
    "\n",
    "#player_season_stats.loc[player_season_stats['player'] == 'Cristiano Ronaldo']"
>>>>>>> aa54dc6 (Fix data cleaning)
   ]
  },
  {
   "cell_type": "code",
   "execution_count": null,
   "id": "f842e60e",
   "metadata": {},
   "outputs": [],
   "source": []
  }
 ],
 "metadata": {
  "kernelspec": {
   "display_name": "Python 3 (ipykernel)",
   "language": "python",
   "name": "python3"
  },
  "language_info": {
   "codemirror_mode": {
    "name": "ipython",
    "version": 3
   },
   "file_extension": ".py",
   "mimetype": "text/x-python",
   "name": "python",
   "nbconvert_exporter": "python",
   "pygments_lexer": "ipython3",
   "version": "3.10.9"
  }
 },
 "nbformat": 4,
 "nbformat_minor": 5
}
